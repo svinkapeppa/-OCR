{
  "nbformat": 4,
  "nbformat_minor": 0,
  "metadata": {
    "colab": {
      "name": "Optical Character Recognition.ipynb",
      "version": "0.3.2",
      "views": {},
      "default_view": {},
      "provenance": [],
      "collapsed_sections": []
    },
    "kernelspec": {
      "name": "python3",
      "display_name": "Python 3"
    },
    "accelerator": "GPU"
  },
  "cells": [
    {
      "metadata": {
        "id": "gc_5NEPFGVgL",
        "colab_type": "text"
      },
      "cell_type": "markdown",
      "source": [
        "# Optical Character Recognition"
      ]
    },
    {
      "metadata": {
        "id": "a_R_uXJGIQlN",
        "colab_type": "text"
      },
      "cell_type": "markdown",
      "source": [
        "I did everything using Google Colab."
      ]
    },
    {
      "metadata": {
        "id": "aV0dXCGeC_J8",
        "colab_type": "code",
        "colab": {
          "autoexec": {
            "startup": false,
            "wait_interval": 0
          }
        },
        "cellView": "form"
      },
      "cell_type": "code",
      "source": [
        "#@title\n",
        "!pip install kaggle\n",
        "\n",
        "from google.colab import files\n",
        "\n",
        "from googleapiclient.discovery import build\n",
        "import io, os\n",
        "from googleapiclient.http import MediaIoBaseDownload\n",
        "from google.colab import auth\n",
        "auth.authenticate_user()\n",
        "drive_service = build('drive', 'v3')\n",
        "results = drive_service.files().list(\n",
        "        q=\"name = 'kaggle.json'\", fields=\"files(id)\").execute()\n",
        "kaggle_api_key = results.get('files', [])\n",
        "filename = \"/content/.kaggle/kaggle.json\"\n",
        "os.makedirs(os.path.dirname(filename), exist_ok=True)\n",
        "request = drive_service.files().get_media(fileId=kaggle_api_key[0]['id'])\n",
        "fh = io.FileIO(filename, 'wb')\n",
        "downloader = MediaIoBaseDownload(fh, request)\n",
        "done = False\n",
        "while done is False:\n",
        "    status, done = downloader.next_chunk()\n",
        "    print(\"Download %d%%.\" % int(status.progress() * 100))\n",
        "os.chmod(filename, 600)\n",
        "\n",
        "!kaggle competitions download -c optical-character-recognition-2018\n",
        "\n",
        "TRAIN_IMAGES = \"/content/.kaggle/competitions/optical-character-recognition-2018/trainImages.dmp\"\n",
        "TRAIN_LABELS = \"/content/.kaggle/competitions/optical-character-recognition-2018/trainLabels.txt\"\n",
        "TEST_IMAGES = \"/content/.kaggle/competitions/optical-character-recognition-2018/testImages.dmp\""
      ],
      "execution_count": 0,
      "outputs": []
    },
    {
      "metadata": {
        "id": "4tlOtDP0IIBb",
        "colab_type": "text"
      },
      "cell_type": "markdown",
      "source": [
        "## Imports"
      ]
    },
    {
      "metadata": {
        "id": "Ua6Vfcv2E8Id",
        "colab_type": "code",
        "colab": {
          "autoexec": {
            "startup": false,
            "wait_interval": 0
          },
          "base_uri": "https://localhost:8080/",
          "height": 34
        },
        "outputId": "17fcf116-a3ed-4d78-854b-577a1fc5a783",
        "executionInfo": {
          "status": "ok",
          "timestamp": 1527106025244,
          "user_tz": -180,
          "elapsed": 3213,
          "user": {
            "displayName": "Evgeny Rubanenko",
            "photoUrl": "https://lh3.googleusercontent.com/a/default-user=s128",
            "userId": "102476666956781355563"
          }
        }
      },
      "cell_type": "code",
      "source": [
        "import numpy as np\n",
        "import tensorflow as tf\n",
        "import csv\n",
        "import warnings\n",
        "\n",
        "from scipy.misc import imresize\n",
        "\n",
        "from sklearn.model_selection import train_test_split\n",
        "from sklearn.preprocessing import LabelEncoder\n",
        "from sklearn.preprocessing import OneHotEncoder\n",
        "\n",
        "from keras.models import Sequential\n",
        "from keras.layers import Dense, Conv2D, MaxPooling2D, Dropout, Flatten\n",
        "\n",
        "from matplotlib import pyplot as plt\n",
        "%matplotlib inline"
      ],
      "execution_count": 2,
      "outputs": [
        {
          "output_type": "stream",
          "text": [
            "Using TensorFlow backend.\n"
          ],
          "name": "stderr"
        }
      ]
    },
    {
      "metadata": {
        "id": "_AWeMwtUOELg",
        "colab_type": "code",
        "colab": {
          "autoexec": {
            "startup": false,
            "wait_interval": 0
          }
        }
      },
      "cell_type": "code",
      "source": [
        "warnings.filterwarnings(\"ignore\")"
      ],
      "execution_count": 0,
      "outputs": []
    },
    {
      "metadata": {
        "id": "Zp1_OQZJZhTq",
        "colab_type": "code",
        "colab": {
          "autoexec": {
            "startup": false,
            "wait_interval": 0
          },
          "base_uri": "https://localhost:8080/",
          "height": 34
        },
        "outputId": "1763b5cd-3bd1-4ea1-8de1-53eef2ffc3ee",
        "executionInfo": {
          "status": "ok",
          "timestamp": 1527106028653,
          "user_tz": -180,
          "elapsed": 2704,
          "user": {
            "displayName": "Evgeny Rubanenko",
            "photoUrl": "https://lh3.googleusercontent.com/a/default-user=s128",
            "userId": "102476666956781355563"
          }
        }
      },
      "cell_type": "code",
      "source": [
        "tf.test.is_gpu_available()"
      ],
      "execution_count": 4,
      "outputs": [
        {
          "output_type": "execute_result",
          "data": {
            "text/plain": [
              "True"
            ]
          },
          "metadata": {
            "tags": []
          },
          "execution_count": 4
        }
      ]
    },
    {
      "metadata": {
        "id": "LPZIvReAIWM-",
        "colab_type": "text"
      },
      "cell_type": "markdown",
      "source": [
        "## Preparations"
      ]
    },
    {
      "metadata": {
        "id": "WrBvDH2HKq7h",
        "colab_type": "text"
      },
      "cell_type": "markdown",
      "source": [
        "We'll write some helpful functions."
      ]
    },
    {
      "metadata": {
        "id": "MyfCNc4bF8kn",
        "colab_type": "code",
        "colab": {
          "autoexec": {
            "startup": false,
            "wait_interval": 0
          }
        }
      },
      "cell_type": "code",
      "source": [
        "def read_dmp(data):\n",
        "    \"\"\"\n",
        "        Gets the data from .dmp file\n",
        "    \"\"\"\n",
        "    i = 0\n",
        "    images = []\n",
        "    while i < len(data):\n",
        "        width = data[i]\n",
        "        i += 1\n",
        "        height = data[i]\n",
        "        i += 1\n",
        "        size = int(width) * height\n",
        "        image = data[i:i + size]\n",
        "        i += size\n",
        "        images.append(image.reshape(width, height))\n",
        "    return images"
      ],
      "execution_count": 0,
      "outputs": []
    },
    {
      "metadata": {
        "id": "GroW4kWuJ_9-",
        "colab_type": "code",
        "colab": {
          "autoexec": {
            "startup": false,
            "wait_interval": 0
          }
        }
      },
      "cell_type": "code",
      "source": [
        "def create_dataset():\n",
        "    \"\"\"\n",
        "        Creates dataset\n",
        "    \"\"\"\n",
        "    y = []\n",
        "    with open(TRAIN_LABELS, \"rt\") as csvfile:\n",
        "        values = csv.reader(csvfile, delimiter=',')\n",
        "        for value in values:\n",
        "            y.append(value[1])\n",
        "    y = y[1:]\n",
        "    \n",
        "    X = np.fromfile(TRAIN_IMAGES, dtype=np.uint8)\n",
        "    X = read_dmp(X)\n",
        "    \n",
        "    X_test = np.fromfile(TEST_IMAGES, dtype=np.uint8)\n",
        "    X_test = read_dmp(X_test)\n",
        "    \n",
        "    return X, y, X_test"
      ],
      "execution_count": 0,
      "outputs": []
    },
    {
      "metadata": {
        "id": "bQqCgrSDWGJ9",
        "colab_type": "code",
        "colab": {
          "autoexec": {
            "startup": false,
            "wait_interval": 0
          }
        }
      },
      "cell_type": "code",
      "source": [
        "def encode(data):\n",
        "    label_encoder = LabelEncoder()\n",
        "    integer_encoded = label_encoder.fit_transform(data)\n",
        "    onehot_encoder = OneHotEncoder(sparse=False)\n",
        "    integer_encoded = integer_encoded.reshape(len(integer_encoded), 1)\n",
        "    onehot_encoded = onehot_encoder.fit_transform(integer_encoded)\n",
        "    return onehot_encoded, label_encoder"
      ],
      "execution_count": 0,
      "outputs": []
    },
    {
      "metadata": {
        "id": "BJ8sRtuXKpG4",
        "colab_type": "text"
      },
      "cell_type": "markdown",
      "source": [
        "## Real work"
      ]
    },
    {
      "metadata": {
        "id": "YFL-NfxPOWwx",
        "colab_type": "text"
      },
      "cell_type": "markdown",
      "source": [
        "First we need to prepare the data."
      ]
    },
    {
      "metadata": {
        "id": "AQtGNtsVXh-T",
        "colab_type": "code",
        "colab": {
          "autoexec": {
            "startup": false,
            "wait_interval": 0
          }
        }
      },
      "cell_type": "code",
      "source": [
        "# Some magic numbers\n",
        "SIZE = 28\n",
        "SQUARE = SIZE * SIZE"
      ],
      "execution_count": 0,
      "outputs": []
    },
    {
      "metadata": {
        "id": "4_JnsBnkKgrQ",
        "colab_type": "code",
        "colab": {
          "autoexec": {
            "startup": false,
            "wait_interval": 0
          }
        }
      },
      "cell_type": "code",
      "source": [
        "# Collect raw data\n",
        "X, y, X_test = create_dataset()"
      ],
      "execution_count": 0,
      "outputs": []
    },
    {
      "metadata": {
        "id": "wLbSisrkYEz-",
        "colab_type": "code",
        "colab": {
          "autoexec": {
            "startup": false,
            "wait_interval": 0
          }
        }
      },
      "cell_type": "code",
      "source": [
        "# Make images have same size\n",
        "X = list(map(lambda image: np.ravel(imresize(image, (SIZE, SIZE))), X))\n",
        "X_test = list(map(lambda image: np.ravel(imresize(image, (SIZE, SIZE))), X_test))"
      ],
      "execution_count": 0,
      "outputs": []
    },
    {
      "metadata": {
        "id": "HaVRITr3YG4J",
        "colab_type": "code",
        "colab": {
          "autoexec": {
            "startup": false,
            "wait_interval": 0
          }
        }
      },
      "cell_type": "code",
      "source": [
        "# One-hot encode labels\n",
        "y, encoder = encode(y)\n",
        "\n",
        "# Remember the number of classes\n",
        "NUM_CLASSES = len(y[0])"
      ],
      "execution_count": 0,
      "outputs": []
    },
    {
      "metadata": {
        "id": "wIJDbEnwYJVB",
        "colab_type": "code",
        "colab": {
          "autoexec": {
            "startup": false,
            "wait_interval": 0
          }
        }
      },
      "cell_type": "code",
      "source": [
        "# Splitting datatest for train and validation\n",
        "X_train, X_val, y_train, y_val = train_test_split(X,\n",
        "                                                  y,\n",
        "                                                  test_size=0.33,\n",
        "                                                  random_state=42)"
      ],
      "execution_count": 0,
      "outputs": []
    },
    {
      "metadata": {
        "id": "g5A7xzynftQT",
        "colab_type": "code",
        "colab": {
          "autoexec": {
            "startup": false,
            "wait_interval": 0
          }
        }
      },
      "cell_type": "code",
      "source": [
        "# Keras likes numpy\n",
        "X_train = np.array(X_train)\n",
        "X_val = np.array(X_val)\n",
        "y_train = np.array(y_train)\n",
        "y_val = np.array(y_val)\n",
        "X_test = np.array(X_test)"
      ],
      "execution_count": 0,
      "outputs": []
    },
    {
      "metadata": {
        "id": "Ngk36Q0akLST",
        "colab_type": "text"
      },
      "cell_type": "markdown",
      "source": [
        "Let's write simple model first."
      ]
    },
    {
      "metadata": {
        "id": "TZfreiTfWn6C",
        "colab_type": "code",
        "colab": {
          "autoexec": {
            "startup": false,
            "wait_interval": 0
          }
        }
      },
      "cell_type": "code",
      "source": [
        "def build_model():\n",
        "    model = Sequential()\n",
        "    model.add(Dense(512, input_shape=(SQUARE,), activation='relu'))\n",
        "    model.add(Dense(NUM_CLASSES, activation='softmax'))\n",
        "    return model"
      ],
      "execution_count": 0,
      "outputs": []
    },
    {
      "metadata": {
        "id": "uEYAQe3kYf3m",
        "colab_type": "code",
        "colab": {
          "autoexec": {
            "startup": false,
            "wait_interval": 0
          }
        }
      },
      "cell_type": "code",
      "source": [
        "model = build_model()"
      ],
      "execution_count": 0,
      "outputs": []
    },
    {
      "metadata": {
        "id": "LO_tXnS4Z4G0",
        "colab_type": "code",
        "colab": {
          "autoexec": {
            "startup": false,
            "wait_interval": 0
          },
          "base_uri": "https://localhost:8080/",
          "height": 204
        },
        "outputId": "e6117a00-88ca-4f9b-e130-e91b787e8599",
        "executionInfo": {
          "status": "ok",
          "timestamp": 1527103999032,
          "user_tz": -180,
          "elapsed": 715,
          "user": {
            "displayName": "Evgeny Rubanenko",
            "photoUrl": "https://lh3.googleusercontent.com/a/default-user=s128",
            "userId": "102476666956781355563"
          }
        }
      },
      "cell_type": "code",
      "source": [
        "model.summary()"
      ],
      "execution_count": 36,
      "outputs": [
        {
          "output_type": "stream",
          "text": [
            "_________________________________________________________________\n",
            "Layer (type)                 Output Shape              Param #   \n",
            "=================================================================\n",
            "dense_3 (Dense)              (None, 512)               401920    \n",
            "_________________________________________________________________\n",
            "dense_4 (Dense)              (None, 316)               162108    \n",
            "=================================================================\n",
            "Total params: 564,028\n",
            "Trainable params: 564,028\n",
            "Non-trainable params: 0\n",
            "_________________________________________________________________\n"
          ],
          "name": "stdout"
        }
      ]
    },
    {
      "metadata": {
        "id": "irPUM7zFfByJ",
        "colab_type": "code",
        "colab": {
          "autoexec": {
            "startup": false,
            "wait_interval": 0
          }
        }
      },
      "cell_type": "code",
      "source": [
        "model.compile(loss='categorical_crossentropy', optimizer='adam', metrics=['accuracy'])"
      ],
      "execution_count": 0,
      "outputs": []
    },
    {
      "metadata": {
        "id": "S-5yojPdZPnw",
        "colab_type": "code",
        "colab": {
          "autoexec": {
            "startup": false,
            "wait_interval": 0
          },
          "base_uri": "https://localhost:8080/",
          "height": 411
        },
        "outputId": "80806512-5139-4edf-fdbf-60f0152e1de4",
        "executionInfo": {
          "status": "ok",
          "timestamp": 1527104057448,
          "user_tz": -180,
          "elapsed": 57688,
          "user": {
            "displayName": "Evgeny Rubanenko",
            "photoUrl": "https://lh3.googleusercontent.com/a/default-user=s128",
            "userId": "102476666956781355563"
          }
        }
      },
      "cell_type": "code",
      "source": [
        "model.fit(X_train, y_train, validation_data=(X_val, y_val), epochs=10, batch_size=200, verbose=1)"
      ],
      "execution_count": 38,
      "outputs": [
        {
          "output_type": "stream",
          "text": [
            "Train on 134000 samples, validate on 66000 samples\n",
            "Epoch 1/10\n",
            "134000/134000 [==============================] - 6s 43us/step - loss: 0.3943 - acc: 0.9140 - val_loss: 0.1371 - val_acc: 0.9611\n",
            "Epoch 2/10\n",
            "134000/134000 [==============================] - 6s 42us/step - loss: 0.1028 - acc: 0.9702 - val_loss: 0.0959 - val_acc: 0.9729\n",
            "Epoch 3/10\n",
            "134000/134000 [==============================] - 6s 43us/step - loss: 0.0790 - acc: 0.9759 - val_loss: 0.0949 - val_acc: 0.9724\n",
            "Epoch 4/10\n",
            " 58600/134000 [============>.................] - ETA: 2s - loss: 0.0670 - acc: 0.9789"
          ],
          "name": "stdout"
        },
        {
          "output_type": "stream",
          "text": [
            "134000/134000 [==============================] - 6s 41us/step - loss: 0.0670 - acc: 0.9789 - val_loss: 0.0880 - val_acc: 0.9733\n",
            "Epoch 5/10\n",
            "134000/134000 [==============================] - 6s 43us/step - loss: 0.0565 - acc: 0.9817 - val_loss: 0.0847 - val_acc: 0.9751\n",
            "Epoch 6/10\n",
            "134000/134000 [==============================] - 6s 43us/step - loss: 0.0514 - acc: 0.9835 - val_loss: 0.0761 - val_acc: 0.9779\n",
            "Epoch 7/10\n",
            "124400/134000 [==========================>...] - ETA: 0s - loss: 0.0474 - acc: 0.9846"
          ],
          "name": "stdout"
        },
        {
          "output_type": "stream",
          "text": [
            "134000/134000 [==============================] - 6s 42us/step - loss: 0.0475 - acc: 0.9846 - val_loss: 0.0726 - val_acc: 0.9781\n",
            "Epoch 8/10\n",
            "134000/134000 [==============================] - 6s 43us/step - loss: 0.0439 - acc: 0.9856 - val_loss: 0.0753 - val_acc: 0.9801\n",
            "Epoch 9/10\n",
            "134000/134000 [==============================] - 6s 43us/step - loss: 0.0405 - acc: 0.9869 - val_loss: 0.0672 - val_acc: 0.9804\n",
            "Epoch 10/10\n",
            "132200/134000 [============================>.] - ETA: 0s - loss: 0.0371 - acc: 0.9880"
          ],
          "name": "stdout"
        },
        {
          "output_type": "stream",
          "text": [
            "134000/134000 [==============================] - 6s 43us/step - loss: 0.0369 - acc: 0.9881 - val_loss: 0.0661 - val_acc: 0.9822\n"
          ],
          "name": "stdout"
        },
        {
          "output_type": "execute_result",
          "data": {
            "text/plain": [
              "<keras.callbacks.History at 0x7f2f84e02cc0>"
            ]
          },
          "metadata": {
            "tags": []
          },
          "execution_count": 38
        }
      ]
    },
    {
      "metadata": {
        "id": "c70mchWogmHo",
        "colab_type": "code",
        "colab": {
          "autoexec": {
            "startup": false,
            "wait_interval": 0
          }
        }
      },
      "cell_type": "code",
      "source": [
        "prediction = model.predict(X_test)"
      ],
      "execution_count": 0,
      "outputs": []
    },
    {
      "metadata": {
        "id": "7AzrNdX1g9tQ",
        "colab_type": "code",
        "colab": {
          "autoexec": {
            "startup": false,
            "wait_interval": 0
          }
        }
      },
      "cell_type": "code",
      "source": [
        "fd = open('baselineNN.txt', 'w')\n",
        "fd.write('Id,Category\\n')\n",
        "for i, label in enumerate(prediction):\n",
        "    fd.write(str(i) + ',' + encoder.inverse_transform(np.argmax(label)) + '\\n')\n",
        "fd.close()\n",
        "\n",
        "files.download('baselineNN.txt')  "
      ],
      "execution_count": 0,
      "outputs": []
    },
    {
      "metadata": {
        "id": "MsKcJVspkEf1",
        "colab_type": "text"
      },
      "cell_type": "markdown",
      "source": [
        "Simple model gives more than 98%.\n",
        "\n",
        "Now let's tune the architecture."
      ]
    },
    {
      "metadata": {
        "id": "VqH5L8C6iSfS",
        "colab_type": "code",
        "colab": {
          "autoexec": {
            "startup": false,
            "wait_interval": 0
          }
        }
      },
      "cell_type": "code",
      "source": [
        "# Some magic numbers\n",
        "SIZE = 32\n",
        "SQUARE = SIZE * SIZE"
      ],
      "execution_count": 0,
      "outputs": []
    },
    {
      "metadata": {
        "id": "hadS25ODkcTh",
        "colab_type": "code",
        "colab": {
          "autoexec": {
            "startup": false,
            "wait_interval": 0
          }
        }
      },
      "cell_type": "code",
      "source": [
        "# Collect raw data\n",
        "X, y, X_test = create_dataset()"
      ],
      "execution_count": 0,
      "outputs": []
    },
    {
      "metadata": {
        "id": "vdeJ3G3Nkghq",
        "colab_type": "code",
        "colab": {
          "autoexec": {
            "startup": false,
            "wait_interval": 0
          }
        }
      },
      "cell_type": "code",
      "source": [
        "# Make images have same size\n",
        "X = list(map(lambda image: imresize(image, (SIZE, SIZE)), X))\n",
        "X_test = list(map(lambda image: imresize(image, (SIZE, SIZE)), X_test))"
      ],
      "execution_count": 0,
      "outputs": []
    },
    {
      "metadata": {
        "id": "HWPLq5pmkiKF",
        "colab_type": "code",
        "colab": {
          "autoexec": {
            "startup": false,
            "wait_interval": 0
          }
        }
      },
      "cell_type": "code",
      "source": [
        "# One-hot encode labels\n",
        "y, encoder = encode(y)\n",
        "\n",
        "# Remember the number of classes\n",
        "NUM_CLASSES = len(y[0])"
      ],
      "execution_count": 0,
      "outputs": []
    },
    {
      "metadata": {
        "id": "f94Kn5xqkj5_",
        "colab_type": "code",
        "colab": {
          "autoexec": {
            "startup": false,
            "wait_interval": 0
          }
        }
      },
      "cell_type": "code",
      "source": [
        "# Splitting datatest for train and validation\n",
        "X_train, X_val, y_train, y_val = train_test_split(X,\n",
        "                                                  y,\n",
        "                                                  test_size=0.33,\n",
        "                                                  random_state=42)"
      ],
      "execution_count": 0,
      "outputs": []
    },
    {
      "metadata": {
        "id": "Dvesw7eGklTS",
        "colab_type": "code",
        "colab": {
          "autoexec": {
            "startup": false,
            "wait_interval": 0
          }
        }
      },
      "cell_type": "code",
      "source": [
        "# Keras likes numpy\n",
        "X_train = np.array(X_train).reshape(-1, SIZE, SIZE, 1)\n",
        "X_val = np.array(X_val).reshape(-1, SIZE, SIZE, 1)\n",
        "y_train = np.array(y_train)\n",
        "y_val = np.array(y_val)\n",
        "X_test = np.array(X_test).reshape(-1, SIZE, SIZE, 1)"
      ],
      "execution_count": 0,
      "outputs": []
    },
    {
      "metadata": {
        "id": "GVI9lPNKkne5",
        "colab_type": "code",
        "colab": {
          "autoexec": {
            "startup": false,
            "wait_interval": 0
          }
        }
      },
      "cell_type": "code",
      "source": [
        "def build_model():\n",
        "    model = Sequential()\n",
        "    model.add(Conv2D(32, kernel_size=(3, 3), input_shape=(SIZE, SIZE, 1), padding='same', activation='relu'))\n",
        "    model.add(MaxPooling2D(pool_size=(2, 2), strides=2))\n",
        "    model.add(Conv2D(64, kernel_size=(3, 3), padding='same', activation='relu'))\n",
        "    model.add(MaxPooling2D(pool_size=(2, 2), strides=2))\n",
        "    model.add(Dropout(rate=0.3))\n",
        "    model.add(Conv2D(128, kernel_size=(3, 3), padding='same', activation='relu'))\n",
        "    model.add(MaxPooling2D(pool_size=(2, 2), strides=2))\n",
        "    model.add(Flatten())\n",
        "    model.add(Dense(512, activation='relu'))\n",
        "    model.add(Dense(NUM_CLASSES, activation='softmax'))\n",
        "    return model"
      ],
      "execution_count": 0,
      "outputs": []
    },
    {
      "metadata": {
        "id": "C4Pi9KFeks6T",
        "colab_type": "code",
        "colab": {
          "autoexec": {
            "startup": false,
            "wait_interval": 0
          }
        }
      },
      "cell_type": "code",
      "source": [
        "model = build_model()"
      ],
      "execution_count": 0,
      "outputs": []
    },
    {
      "metadata": {
        "id": "MjCb3bztkuSl",
        "colab_type": "code",
        "colab": {
          "autoexec": {
            "startup": false,
            "wait_interval": 0
          },
          "base_uri": "https://localhost:8080/",
          "height": 476
        },
        "outputId": "a246c481-a4b6-4887-9edd-059beca38d78",
        "executionInfo": {
          "status": "ok",
          "timestamp": 1527104097369,
          "user_tz": -180,
          "elapsed": 703,
          "user": {
            "displayName": "Evgeny Rubanenko",
            "photoUrl": "https://lh3.googleusercontent.com/a/default-user=s128",
            "userId": "102476666956781355563"
          }
        }
      },
      "cell_type": "code",
      "source": [
        "model.summary()"
      ],
      "execution_count": 49,
      "outputs": [
        {
          "output_type": "stream",
          "text": [
            "_________________________________________________________________\n",
            "Layer (type)                 Output Shape              Param #   \n",
            "=================================================================\n",
            "conv2d_1 (Conv2D)            (None, 32, 32, 32)        320       \n",
            "_________________________________________________________________\n",
            "max_pooling2d_1 (MaxPooling2 (None, 16, 16, 32)        0         \n",
            "_________________________________________________________________\n",
            "conv2d_2 (Conv2D)            (None, 16, 16, 64)        18496     \n",
            "_________________________________________________________________\n",
            "max_pooling2d_2 (MaxPooling2 (None, 8, 8, 64)          0         \n",
            "_________________________________________________________________\n",
            "dropout_1 (Dropout)          (None, 8, 8, 64)          0         \n",
            "_________________________________________________________________\n",
            "conv2d_3 (Conv2D)            (None, 8, 8, 128)         73856     \n",
            "_________________________________________________________________\n",
            "max_pooling2d_3 (MaxPooling2 (None, 4, 4, 128)         0         \n",
            "_________________________________________________________________\n",
            "flatten_1 (Flatten)          (None, 2048)              0         \n",
            "_________________________________________________________________\n",
            "dense_5 (Dense)              (None, 512)               1049088   \n",
            "_________________________________________________________________\n",
            "dense_6 (Dense)              (None, 316)               162108    \n",
            "=================================================================\n",
            "Total params: 1,303,868\n",
            "Trainable params: 1,303,868\n",
            "Non-trainable params: 0\n",
            "_________________________________________________________________\n"
          ],
          "name": "stdout"
        }
      ]
    },
    {
      "metadata": {
        "id": "iQ13KICOkxAQ",
        "colab_type": "code",
        "colab": {
          "autoexec": {
            "startup": false,
            "wait_interval": 0
          }
        }
      },
      "cell_type": "code",
      "source": [
        "model.compile(loss='categorical_crossentropy', optimizer='adam', metrics=['accuracy'])"
      ],
      "execution_count": 0,
      "outputs": []
    },
    {
      "metadata": {
        "id": "7NkUgHHmkyuF",
        "colab_type": "code",
        "colab": {
          "autoexec": {
            "startup": false,
            "wait_interval": 0
          },
          "base_uri": "https://localhost:8080/",
          "height": 411
        },
        "outputId": "4c8dd557-79be-4670-d1d4-1112986fc70c",
        "executionInfo": {
          "status": "ok",
          "timestamp": 1527104310380,
          "user_tz": -180,
          "elapsed": 212140,
          "user": {
            "displayName": "Evgeny Rubanenko",
            "photoUrl": "https://lh3.googleusercontent.com/a/default-user=s128",
            "userId": "102476666956781355563"
          }
        }
      },
      "cell_type": "code",
      "source": [
        "model.fit(X_train, y_train, validation_data=(X_val, y_val), epochs=10, batch_size=200, verbose=1)"
      ],
      "execution_count": 51,
      "outputs": [
        {
          "output_type": "stream",
          "text": [
            "Train on 134000 samples, validate on 66000 samples\n",
            "Epoch 1/10\n",
            "134000/134000 [==============================] - 22s 166us/step - loss: 0.5269 - acc: 0.8933 - val_loss: 0.2064 - val_acc: 0.9576\n",
            "Epoch 2/10\n",
            " 69400/134000 [==============>...............] - ETA: 8s - loss: 0.1737 - acc: 0.9634"
          ],
          "name": "stdout"
        },
        {
          "output_type": "stream",
          "text": [
            "134000/134000 [==============================] - 21s 156us/step - loss: 0.1663 - acc: 0.9646 - val_loss: 0.1661 - val_acc: 0.9659\n",
            "Epoch 3/10\n",
            "134000/134000 [==============================] - 21s 156us/step - loss: 0.1293 - acc: 0.9725 - val_loss: 0.1471 - val_acc: 0.9681\n",
            "Epoch 4/10\n",
            " 10600/134000 [=>............................] - ETA: 16s - loss: 0.1136 - acc: 0.9752"
          ],
          "name": "stdout"
        },
        {
          "output_type": "stream",
          "text": [
            "134000/134000 [==============================] - 21s 156us/step - loss: 0.1159 - acc: 0.9752 - val_loss: 0.1332 - val_acc: 0.9731\n",
            "Epoch 5/10\n",
            "129400/134000 [===========================>..] - ETA: 0s - loss: 0.1050 - acc: 0.9781"
          ],
          "name": "stdout"
        },
        {
          "output_type": "stream",
          "text": [
            "134000/134000 [==============================] - 21s 156us/step - loss: 0.1049 - acc: 0.9782 - val_loss: 0.1211 - val_acc: 0.9774\n",
            "Epoch 6/10\n",
            "134000/134000 [==============================] - 21s 157us/step - loss: 0.0980 - acc: 0.9810 - val_loss: 0.1171 - val_acc: 0.9787\n",
            "Epoch 7/10\n",
            " 24200/134000 [====>.........................] - ETA: 15s - loss: 0.0881 - acc: 0.9843"
          ],
          "name": "stdout"
        },
        {
          "output_type": "stream",
          "text": [
            "134000/134000 [==============================] - 21s 157us/step - loss: 0.0934 - acc: 0.9820 - val_loss: 0.1107 - val_acc: 0.9795\n",
            "Epoch 8/10\n",
            "134000/134000 [==============================] - 21s 157us/step - loss: 0.0860 - acc: 0.9837 - val_loss: 0.1065 - val_acc: 0.9816\n"
          ],
          "name": "stdout"
        },
        {
          "output_type": "stream",
          "text": [
            "Epoch 9/10\n",
            "134000/134000 [==============================] - 21s 156us/step - loss: 0.0823 - acc: 0.9850 - val_loss: 0.1136 - val_acc: 0.9801\n",
            "Epoch 10/10\n",
            "113000/134000 [========================>.....] - ETA: 2s - loss: 0.0776 - acc: 0.9862"
          ],
          "name": "stdout"
        },
        {
          "output_type": "stream",
          "text": [
            "134000/134000 [==============================] - 21s 157us/step - loss: 0.0788 - acc: 0.9860 - val_loss: 0.1083 - val_acc: 0.9811\n"
          ],
          "name": "stdout"
        },
        {
          "output_type": "execute_result",
          "data": {
            "text/plain": [
              "<keras.callbacks.History at 0x7f2f7b68a2b0>"
            ]
          },
          "metadata": {
            "tags": []
          },
          "execution_count": 51
        }
      ]
    },
    {
      "metadata": {
        "id": "1IM1FIP-k0Qo",
        "colab_type": "code",
        "colab": {
          "autoexec": {
            "startup": false,
            "wait_interval": 0
          }
        }
      },
      "cell_type": "code",
      "source": [
        "prediction = model.predict(X_test)"
      ],
      "execution_count": 0,
      "outputs": []
    },
    {
      "metadata": {
        "id": "LOkDCkdFk1to",
        "colab_type": "code",
        "colab": {
          "autoexec": {
            "startup": false,
            "wait_interval": 0
          }
        }
      },
      "cell_type": "code",
      "source": [
        "fd = open('CNN.txt', 'w')\n",
        "fd.write('Id,Category\\n')\n",
        "for i, label in enumerate(prediction):\n",
        "    fd.write(str(i) + ',' + encoder.inverse_transform(np.argmax(label)) + '\\n')\n",
        "fd.close()\n",
        "\n",
        "files.download('CNN.txt')  "
      ],
      "execution_count": 0,
      "outputs": []
    },
    {
      "metadata": {
        "id": "F5nMb3hctjwO",
        "colab_type": "text"
      },
      "cell_type": "markdown",
      "source": [
        "One more time."
      ]
    },
    {
      "metadata": {
        "id": "u-LGMgk9sNkq",
        "colab_type": "code",
        "colab": {
          "autoexec": {
            "startup": false,
            "wait_interval": 0
          }
        }
      },
      "cell_type": "code",
      "source": [
        "# Some magic numbers\n",
        "SIZE = 32\n",
        "SQUARE = SIZE * SIZE"
      ],
      "execution_count": 0,
      "outputs": []
    },
    {
      "metadata": {
        "id": "9oEqjyI1to8e",
        "colab_type": "code",
        "colab": {
          "autoexec": {
            "startup": false,
            "wait_interval": 0
          }
        }
      },
      "cell_type": "code",
      "source": [
        "# Collect raw data\n",
        "X, y, X_test = create_dataset()"
      ],
      "execution_count": 0,
      "outputs": []
    },
    {
      "metadata": {
        "id": "jBv7vSQbtqWf",
        "colab_type": "code",
        "colab": {
          "autoexec": {
            "startup": false,
            "wait_interval": 0
          }
        }
      },
      "cell_type": "code",
      "source": [
        "# Make images have same size\n",
        "X = list(map(lambda image: imresize(image, (SIZE, SIZE)), X))\n",
        "X_test = list(map(lambda image: imresize(image, (SIZE, SIZE)), X_test))"
      ],
      "execution_count": 0,
      "outputs": []
    },
    {
      "metadata": {
        "id": "P-1Y37U6tr9H",
        "colab_type": "code",
        "colab": {
          "autoexec": {
            "startup": false,
            "wait_interval": 0
          }
        }
      },
      "cell_type": "code",
      "source": [
        "# One-hot encode labels\n",
        "y, encoder = encode(y)\n",
        "\n",
        "# Remember the number of classes\n",
        "NUM_CLASSES = len(y[0])"
      ],
      "execution_count": 0,
      "outputs": []
    },
    {
      "metadata": {
        "id": "0sZ0sBZrttcH",
        "colab_type": "code",
        "colab": {
          "autoexec": {
            "startup": false,
            "wait_interval": 0
          }
        }
      },
      "cell_type": "code",
      "source": [
        "# Splitting datatest for train and validation\n",
        "X_train, X_val, y_train, y_val = train_test_split(X,\n",
        "                                                  y,\n",
        "                                                  test_size=0.33,\n",
        "                                                  random_state=42)"
      ],
      "execution_count": 0,
      "outputs": []
    },
    {
      "metadata": {
        "id": "ZeOG6QT-tvCM",
        "colab_type": "code",
        "colab": {
          "autoexec": {
            "startup": false,
            "wait_interval": 0
          }
        }
      },
      "cell_type": "code",
      "source": [
        "# Keras likes numpy\n",
        "X_train = np.array(X_train).reshape(-1, SIZE, SIZE, 1)\n",
        "X_val = np.array(X_val).reshape(-1, SIZE, SIZE, 1)\n",
        "y_train = np.array(y_train)\n",
        "y_val = np.array(y_val)\n",
        "X_test = np.array(X_test).reshape(-1, SIZE, SIZE, 1)"
      ],
      "execution_count": 0,
      "outputs": []
    },
    {
      "metadata": {
        "id": "AwQlmTYytxBb",
        "colab_type": "code",
        "colab": {
          "autoexec": {
            "startup": false,
            "wait_interval": 0
          }
        }
      },
      "cell_type": "code",
      "source": [
        "def build_model():\n",
        "    model = Sequential()\n",
        "    model.add(Conv2D(64, kernel_size=(3, 3), input_shape=(SIZE, SIZE, 1), padding='same', activation='relu'))\n",
        "    model.add(MaxPooling2D(pool_size=(2, 2), strides=2))\n",
        "    model.add(Conv2D(128, kernel_size=(3, 3), padding='same', activation='relu'))\n",
        "    model.add(MaxPooling2D(pool_size=(2, 2), strides=2))\n",
        "    model.add(Dropout(rate=0.35))\n",
        "    model.add(Conv2D(256, kernel_size=(4, 4), padding='same', activation='relu'))\n",
        "    model.add(MaxPooling2D(pool_size=(2, 2), strides=2))\n",
        "    model.add(Flatten())\n",
        "    model.add(Dense(600, activation='relu'))\n",
        "    model.add(Dense(400, activation='relu'))\n",
        "    model.add(Dense(NUM_CLASSES, activation='softmax'))\n",
        "    return model"
      ],
      "execution_count": 0,
      "outputs": []
    },
    {
      "metadata": {
        "id": "h8niP2tNt-n7",
        "colab_type": "code",
        "colab": {
          "autoexec": {
            "startup": false,
            "wait_interval": 0
          }
        }
      },
      "cell_type": "code",
      "source": [
        "model = build_model()"
      ],
      "execution_count": 0,
      "outputs": []
    },
    {
      "metadata": {
        "id": "Vles3ex1uA5T",
        "colab_type": "code",
        "colab": {
          "autoexec": {
            "startup": false,
            "wait_interval": 0
          },
          "base_uri": "https://localhost:8080/",
          "height": 510
        },
        "outputId": "28fd365a-6484-43aa-a5c0-0059f6c701e2",
        "executionInfo": {
          "status": "ok",
          "timestamp": 1526856165922,
          "user_tz": -180,
          "elapsed": 767,
          "user": {
            "displayName": "Evgeny Rubanenko",
            "photoUrl": "https://lh3.googleusercontent.com/a/default-user=s128",
            "userId": "102476666956781355563"
          }
        }
      },
      "cell_type": "code",
      "source": [
        "model.summary()"
      ],
      "execution_count": 74,
      "outputs": [
        {
          "output_type": "stream",
          "text": [
            "_________________________________________________________________\n",
            "Layer (type)                 Output Shape              Param #   \n",
            "=================================================================\n",
            "conv2d_10 (Conv2D)           (None, 32, 32, 64)        640       \n",
            "_________________________________________________________________\n",
            "max_pooling2d_8 (MaxPooling2 (None, 16, 16, 64)        0         \n",
            "_________________________________________________________________\n",
            "conv2d_11 (Conv2D)           (None, 16, 16, 128)       73856     \n",
            "_________________________________________________________________\n",
            "max_pooling2d_9 (MaxPooling2 (None, 8, 8, 128)         0         \n",
            "_________________________________________________________________\n",
            "dropout_3 (Dropout)          (None, 8, 8, 128)         0         \n",
            "_________________________________________________________________\n",
            "conv2d_12 (Conv2D)           (None, 8, 8, 256)         524544    \n",
            "_________________________________________________________________\n",
            "max_pooling2d_10 (MaxPooling (None, 4, 4, 256)         0         \n",
            "_________________________________________________________________\n",
            "flatten_2 (Flatten)          (None, 4096)              0         \n",
            "_________________________________________________________________\n",
            "dense_5 (Dense)              (None, 600)               2458200   \n",
            "_________________________________________________________________\n",
            "dense_6 (Dense)              (None, 400)               240400    \n",
            "_________________________________________________________________\n",
            "dense_7 (Dense)              (None, 316)               126716    \n",
            "=================================================================\n",
            "Total params: 3,424,356\n",
            "Trainable params: 3,424,356\n",
            "Non-trainable params: 0\n",
            "_________________________________________________________________\n"
          ],
          "name": "stdout"
        }
      ]
    },
    {
      "metadata": {
        "id": "4CX1BQTmuCbV",
        "colab_type": "code",
        "colab": {
          "autoexec": {
            "startup": false,
            "wait_interval": 0
          }
        }
      },
      "cell_type": "code",
      "source": [
        "model.compile(loss='categorical_crossentropy', optimizer='adam', metrics=['accuracy'])"
      ],
      "execution_count": 0,
      "outputs": []
    },
    {
      "metadata": {
        "id": "7baRR5KeuFep",
        "colab_type": "code",
        "colab": {
          "autoexec": {
            "startup": false,
            "wait_interval": 0
          },
          "base_uri": "https://localhost:8080/",
          "height": 751
        },
        "outputId": "48a6cd7b-530b-4426-9721-7fdd05abe281",
        "executionInfo": {
          "status": "ok",
          "timestamp": 1526857667722,
          "user_tz": -180,
          "elapsed": 1471922,
          "user": {
            "displayName": "Evgeny Rubanenko",
            "photoUrl": "https://lh3.googleusercontent.com/a/default-user=s128",
            "userId": "102476666956781355563"
          }
        }
      },
      "cell_type": "code",
      "source": [
        "model.fit(X_train, y_train, validation_data=(X_val, y_val), epochs=20, batch_size=64, verbose=1)"
      ],
      "execution_count": 76,
      "outputs": [
        {
          "output_type": "stream",
          "text": [
            "Train on 134000 samples, validate on 66000 samples\n",
            "Epoch 1/20\n",
            " 86208/134000 [==================>...........] - ETA: 23s - loss: 0.4708 - acc: 0.8929"
          ],
          "name": "stdout"
        },
        {
          "output_type": "stream",
          "text": [
            "134000/134000 [==============================] - 74s 553us/step - loss: 0.3531 - acc: 0.9171 - val_loss: 0.1283 - val_acc: 0.9654\n",
            "Epoch 2/20\n",
            " 37952/134000 [=======>......................] - ETA: 46s - loss: 0.1095 - acc: 0.9682"
          ],
          "name": "stdout"
        },
        {
          "output_type": "stream",
          "text": [
            "134000/134000 [==============================] - 74s 549us/step - loss: 0.1051 - acc: 0.9700 - val_loss: 0.1193 - val_acc: 0.9669\n",
            "Epoch 3/20\n",
            " 19776/134000 [===>..........................] - ETA: 55s - loss: 0.0878 - acc: 0.9749"
          ],
          "name": "stdout"
        },
        {
          "output_type": "stream",
          "text": [
            "134000/134000 [==============================] - 74s 549us/step - loss: 0.0837 - acc: 0.9759 - val_loss: 0.0859 - val_acc: 0.9765\n",
            "Epoch 4/20\n",
            " 12864/134000 [=>............................] - ETA: 59s - loss: 0.0666 - acc: 0.9812"
          ],
          "name": "stdout"
        },
        {
          "output_type": "stream",
          "text": [
            "134000/134000 [==============================] - 74s 549us/step - loss: 0.0675 - acc: 0.9807 - val_loss: 0.0715 - val_acc: 0.9809\n",
            "Epoch 5/20\n",
            " 10176/134000 [=>............................] - ETA: 1:00 - loss: 0.0544 - acc: 0.9840"
          ],
          "name": "stdout"
        },
        {
          "output_type": "stream",
          "text": [
            "134000/134000 [==============================] - 73s 548us/step - loss: 0.0566 - acc: 0.9832 - val_loss: 0.0681 - val_acc: 0.9826\n",
            "Epoch 6/20\n",
            "  9280/134000 [=>............................] - ETA: 59s - loss: 0.0501 - acc: 0.9856"
          ],
          "name": "stdout"
        },
        {
          "output_type": "stream",
          "text": [
            "134000/134000 [==============================] - 73s 546us/step - loss: 0.0488 - acc: 0.9854 - val_loss: 0.0689 - val_acc: 0.9814\n",
            "Epoch 7/20\n",
            "  8896/134000 [>.............................] - ETA: 1:00 - loss: 0.0378 - acc: 0.9884"
          ],
          "name": "stdout"
        },
        {
          "output_type": "stream",
          "text": [
            "134000/134000 [==============================] - 74s 551us/step - loss: 0.0444 - acc: 0.9870 - val_loss: 0.0647 - val_acc: 0.9844\n",
            "Epoch 8/20\n",
            "  8768/134000 [>.............................] - ETA: 1:00 - loss: 0.0365 - acc: 0.9888"
          ],
          "name": "stdout"
        },
        {
          "output_type": "stream",
          "text": [
            "134000/134000 [==============================] - 73s 548us/step - loss: 0.0399 - acc: 0.9882 - val_loss: 0.0631 - val_acc: 0.9839\n",
            "Epoch 9/20\n",
            "  8768/134000 [>.............................] - ETA: 1:01 - loss: 0.0254 - acc: 0.9922"
          ],
          "name": "stdout"
        },
        {
          "output_type": "stream",
          "text": [
            "134000/134000 [==============================] - 73s 548us/step - loss: 0.0363 - acc: 0.9897 - val_loss: 0.0583 - val_acc: 0.9860\n",
            "Epoch 10/20\n",
            "  8640/134000 [>.............................] - ETA: 1:00 - loss: 0.0268 - acc: 0.9916"
          ],
          "name": "stdout"
        },
        {
          "output_type": "stream",
          "text": [
            "134000/134000 [==============================] - 73s 547us/step - loss: 0.0371 - acc: 0.9899 - val_loss: 0.0597 - val_acc: 0.9851\n",
            "Epoch 11/20\n",
            "  8512/134000 [>.............................] - ETA: 1:01 - loss: 0.0296 - acc: 0.9925"
          ],
          "name": "stdout"
        },
        {
          "output_type": "stream",
          "text": [
            "134000/134000 [==============================] - 74s 550us/step - loss: 0.0345 - acc: 0.9907 - val_loss: 0.0718 - val_acc: 0.9847\n",
            "Epoch 12/20\n",
            "  8512/134000 [>.............................] - ETA: 1:01 - loss: 0.0316 - acc: 0.9911"
          ],
          "name": "stdout"
        },
        {
          "output_type": "stream",
          "text": [
            "134000/134000 [==============================] - 73s 547us/step - loss: 0.0343 - acc: 0.9910 - val_loss: 0.0638 - val_acc: 0.9860\n",
            "Epoch 13/20\n",
            "  8640/134000 [>.............................] - ETA: 1:02 - loss: 0.0332 - acc: 0.9912"
          ],
          "name": "stdout"
        },
        {
          "output_type": "stream",
          "text": [
            "134000/134000 [==============================] - 74s 549us/step - loss: 0.0331 - acc: 0.9914 - val_loss: 0.0677 - val_acc: 0.9852\n",
            "Epoch 14/20\n",
            "  8640/134000 [>.............................] - ETA: 1:01 - loss: 0.0233 - acc: 0.9939"
          ],
          "name": "stdout"
        },
        {
          "output_type": "stream",
          "text": [
            "134000/134000 [==============================] - 73s 548us/step - loss: 0.0301 - acc: 0.9922 - val_loss: 0.0662 - val_acc: 0.9860\n",
            "Epoch 15/20\n",
            "  8640/134000 [>.............................] - ETA: 1:01 - loss: 0.0257 - acc: 0.9940"
          ],
          "name": "stdout"
        },
        {
          "output_type": "stream",
          "text": [
            "134000/134000 [==============================] - 74s 549us/step - loss: 0.0318 - acc: 0.9919 - val_loss: 0.0653 - val_acc: 0.9850\n",
            "Epoch 16/20\n",
            "  8640/134000 [>.............................] - ETA: 1:02 - loss: 0.0177 - acc: 0.9948"
          ],
          "name": "stdout"
        },
        {
          "output_type": "stream",
          "text": [
            "134000/134000 [==============================] - 74s 549us/step - loss: 0.0283 - acc: 0.9928 - val_loss: 0.0750 - val_acc: 0.9844\n",
            "Epoch 17/20\n",
            "  8384/134000 [>.............................] - ETA: 1:01 - loss: 0.0313 - acc: 0.9903"
          ],
          "name": "stdout"
        },
        {
          "output_type": "stream",
          "text": [
            "134000/134000 [==============================] - 74s 551us/step - loss: 0.0328 - acc: 0.9919 - val_loss: 0.0662 - val_acc: 0.9868\n",
            "Epoch 18/20\n",
            "  8512/134000 [>.............................] - ETA: 1:01 - loss: 0.0210 - acc: 0.9947"
          ],
          "name": "stdout"
        },
        {
          "output_type": "stream",
          "text": [
            "134000/134000 [==============================] - 74s 550us/step - loss: 0.0293 - acc: 0.9931 - val_loss: 0.0733 - val_acc: 0.9865\n",
            "Epoch 19/20\n",
            "  8512/134000 [>.............................] - ETA: 1:01 - loss: 0.0322 - acc: 0.9926"
          ],
          "name": "stdout"
        },
        {
          "output_type": "stream",
          "text": [
            "134000/134000 [==============================] - 73s 546us/step - loss: 0.0296 - acc: 0.9930 - val_loss: 0.0708 - val_acc: 0.9858\n",
            "Epoch 20/20\n",
            "  8512/134000 [>.............................] - ETA: 1:01 - loss: 0.0258 - acc: 0.9945"
          ],
          "name": "stdout"
        },
        {
          "output_type": "stream",
          "text": [
            "134000/134000 [==============================] - 73s 546us/step - loss: 0.0306 - acc: 0.9931 - val_loss: 0.0828 - val_acc: 0.9847\n"
          ],
          "name": "stdout"
        },
        {
          "output_type": "execute_result",
          "data": {
            "text/plain": [
              "<keras.callbacks.History at 0x7f4ab45d5080>"
            ]
          },
          "metadata": {
            "tags": []
          },
          "execution_count": 76
        }
      ]
    },
    {
      "metadata": {
        "id": "KTHvW2AYuJ6T",
        "colab_type": "code",
        "colab": {
          "autoexec": {
            "startup": false,
            "wait_interval": 0
          }
        }
      },
      "cell_type": "code",
      "source": [
        "prediction = model.predict(X_test)"
      ],
      "execution_count": 0,
      "outputs": []
    },
    {
      "metadata": {
        "id": "FxsmpPKPz1-9",
        "colab_type": "code",
        "colab": {
          "autoexec": {
            "startup": false,
            "wait_interval": 0
          }
        }
      },
      "cell_type": "code",
      "source": [
        "fd = open('CNN_Second.txt', 'w')\n",
        "fd.write('Id,Category\\n')\n",
        "for i, label in enumerate(prediction):\n",
        "    fd.write(str(i) + ',' + encoder.inverse_transform(np.argmax(label)) + '\\n')\n",
        "fd.close()\n",
        "\n",
        "files.download('CNN_Second.txt')  "
      ],
      "execution_count": 0,
      "outputs": []
    },
    {
      "metadata": {
        "id": "rNxz8KiTz_af",
        "colab_type": "code",
        "colab": {
          "autoexec": {
            "startup": false,
            "wait_interval": 0
          }
        }
      },
      "cell_type": "code",
      "source": [
        ""
      ],
      "execution_count": 0,
      "outputs": []
    },
    {
      "metadata": {
        "id": "1nOt8f-E-LuQ",
        "colab_type": "code",
        "colab": {
          "autoexec": {
            "startup": false,
            "wait_interval": 0
          }
        }
      },
      "cell_type": "code",
      "source": [
        ""
      ],
      "execution_count": 0,
      "outputs": []
    },
    {
      "metadata": {
        "id": "0p5en6-G-Lyv",
        "colab_type": "code",
        "colab": {
          "autoexec": {
            "startup": false,
            "wait_interval": 0
          }
        }
      },
      "cell_type": "code",
      "source": [
        "# Some magic numbers\n",
        "SIZE = 28\n",
        "SQUARE = SIZE * SIZE"
      ],
      "execution_count": 0,
      "outputs": []
    },
    {
      "metadata": {
        "id": "8Ss93ICHplWa",
        "colab_type": "code",
        "colab": {
          "autoexec": {
            "startup": false,
            "wait_interval": 0
          }
        }
      },
      "cell_type": "code",
      "source": [
        "# Collect raw data\n",
        "X, y, X_test = create_dataset()"
      ],
      "execution_count": 0,
      "outputs": []
    },
    {
      "metadata": {
        "id": "OMGx8xy8pnSY",
        "colab_type": "code",
        "colab": {
          "autoexec": {
            "startup": false,
            "wait_interval": 0
          }
        }
      },
      "cell_type": "code",
      "source": [
        "# Make images have same size\n",
        "X = list(map(lambda image: imresize(image, (SIZE, SIZE)), X))\n",
        "X_test = list(map(lambda image: imresize(image, (SIZE, SIZE)), X_test))"
      ],
      "execution_count": 0,
      "outputs": []
    },
    {
      "metadata": {
        "id": "22jlBE9mppSK",
        "colab_type": "code",
        "colab": {
          "autoexec": {
            "startup": false,
            "wait_interval": 0
          }
        }
      },
      "cell_type": "code",
      "source": [
        "# One-hot encode labels\n",
        "y, encoder = encode(y)\n",
        "\n",
        "# Remember the number of classes\n",
        "NUM_CLASSES = len(y[0])"
      ],
      "execution_count": 0,
      "outputs": []
    },
    {
      "metadata": {
        "id": "nRt1p68UprnA",
        "colab_type": "code",
        "colab": {
          "autoexec": {
            "startup": false,
            "wait_interval": 0
          }
        }
      },
      "cell_type": "code",
      "source": [
        "# Splitting datatest for train and validation\n",
        "X_train, X_val, y_train, y_val = train_test_split(X,\n",
        "                                                  y,\n",
        "                                                  test_size=0.3,\n",
        "                                                  random_state=42)"
      ],
      "execution_count": 0,
      "outputs": []
    },
    {
      "metadata": {
        "id": "z8rcBozbpxgH",
        "colab_type": "code",
        "colab": {
          "autoexec": {
            "startup": false,
            "wait_interval": 0
          }
        }
      },
      "cell_type": "code",
      "source": [
        "# Keras likes numpy\n",
        "X_train = np.array(X_train).reshape(-1, SIZE, SIZE, 1)\n",
        "X_val = np.array(X_val).reshape(-1, SIZE, SIZE, 1)\n",
        "y_train = np.array(y_train)\n",
        "y_val = np.array(y_val)\n",
        "X_test = np.array(X_test).reshape(-1, SIZE, SIZE, 1)"
      ],
      "execution_count": 0,
      "outputs": []
    },
    {
      "metadata": {
        "id": "LtIBBVWzpzSq",
        "colab_type": "code",
        "colab": {
          "autoexec": {
            "startup": false,
            "wait_interval": 0
          }
        }
      },
      "cell_type": "code",
      "source": [
        "def build_model():\n",
        "    model = Sequential()\n",
        "    model.add(Conv2D(64, kernel_size=(3, 3), input_shape=(SIZE, SIZE, 1), padding='same', activation='relu'))\n",
        "    model.add(MaxPooling2D(pool_size=(2, 2), strides=2))\n",
        "    model.add(Conv2D(128, kernel_size=(3, 3), padding='same', activation='relu'))\n",
        "    model.add(MaxPooling2D(pool_size=(2, 2), strides=2))\n",
        "    model.add(Dropout(rate=0.35))\n",
        "    model.add(Conv2D(256, kernel_size=(4, 4), padding='same', activation='relu'))\n",
        "    model.add(MaxPooling2D(pool_size=(2, 2), strides=2))\n",
        "    model.add(Flatten())\n",
        "    model.add(Dense(600, activation='relu'))\n",
        "    model.add(Dropout(rate=0.35))\n",
        "    model.add(Dense(400, activation='relu'))\n",
        "    model.add(Dropout(rate=0.35))\n",
        "    model.add(Dense(NUM_CLASSES, activation='softmax'))\n",
        "    return model"
      ],
      "execution_count": 0,
      "outputs": []
    },
    {
      "metadata": {
        "id": "CLpc6A6zqLGr",
        "colab_type": "code",
        "colab": {
          "autoexec": {
            "startup": false,
            "wait_interval": 0
          }
        }
      },
      "cell_type": "code",
      "source": [
        "model = build_model()"
      ],
      "execution_count": 0,
      "outputs": []
    },
    {
      "metadata": {
        "id": "9Hc89uNDqNfG",
        "colab_type": "code",
        "colab": {
          "autoexec": {
            "startup": false,
            "wait_interval": 0
          },
          "base_uri": "https://localhost:8080/",
          "height": 578
        },
        "outputId": "9b20003b-4e7c-4010-c647-c1b4ce0543bd",
        "executionInfo": {
          "status": "ok",
          "timestamp": 1527106833731,
          "user_tz": -180,
          "elapsed": 722,
          "user": {
            "displayName": "Evgeny Rubanenko",
            "photoUrl": "https://lh3.googleusercontent.com/a/default-user=s128",
            "userId": "102476666956781355563"
          }
        }
      },
      "cell_type": "code",
      "source": [
        "model.summary()"
      ],
      "execution_count": 46,
      "outputs": [
        {
          "output_type": "stream",
          "text": [
            "_________________________________________________________________\n",
            "Layer (type)                 Output Shape              Param #   \n",
            "=================================================================\n",
            "conv2d_1 (Conv2D)            (None, 28, 28, 64)        640       \n",
            "_________________________________________________________________\n",
            "max_pooling2d_1 (MaxPooling2 (None, 14, 14, 64)        0         \n",
            "_________________________________________________________________\n",
            "conv2d_2 (Conv2D)            (None, 14, 14, 128)       73856     \n",
            "_________________________________________________________________\n",
            "max_pooling2d_2 (MaxPooling2 (None, 7, 7, 128)         0         \n",
            "_________________________________________________________________\n",
            "dropout_1 (Dropout)          (None, 7, 7, 128)         0         \n",
            "_________________________________________________________________\n",
            "conv2d_3 (Conv2D)            (None, 7, 7, 256)         524544    \n",
            "_________________________________________________________________\n",
            "max_pooling2d_3 (MaxPooling2 (None, 3, 3, 256)         0         \n",
            "_________________________________________________________________\n",
            "flatten_1 (Flatten)          (None, 2304)              0         \n",
            "_________________________________________________________________\n",
            "dense_1 (Dense)              (None, 600)               1383000   \n",
            "_________________________________________________________________\n",
            "dropout_2 (Dropout)          (None, 600)               0         \n",
            "_________________________________________________________________\n",
            "dense_2 (Dense)              (None, 400)               240400    \n",
            "_________________________________________________________________\n",
            "dropout_3 (Dropout)          (None, 400)               0         \n",
            "_________________________________________________________________\n",
            "dense_3 (Dense)              (None, 316)               126716    \n",
            "=================================================================\n",
            "Total params: 2,349,156\n",
            "Trainable params: 2,349,156\n",
            "Non-trainable params: 0\n",
            "_________________________________________________________________\n"
          ],
          "name": "stdout"
        }
      ]
    },
    {
      "metadata": {
        "id": "x32CQnRqqZ23",
        "colab_type": "code",
        "colab": {
          "autoexec": {
            "startup": false,
            "wait_interval": 0
          }
        }
      },
      "cell_type": "code",
      "source": [
        "model.compile(loss='categorical_crossentropy', optimizer='adam', metrics=['accuracy'])"
      ],
      "execution_count": 0,
      "outputs": []
    },
    {
      "metadata": {
        "id": "XwVmttmrqQot",
        "colab_type": "code",
        "colab": {
          "autoexec": {
            "startup": false,
            "wait_interval": 0
          },
          "base_uri": "https://localhost:8080/",
          "height": 581
        },
        "outputId": "278253a2-dcd2-4fc9-e528-da2f9d2a9310",
        "executionInfo": {
          "status": "ok",
          "timestamp": 1527107879662,
          "user_tz": -180,
          "elapsed": 1004531,
          "user": {
            "displayName": "Evgeny Rubanenko",
            "photoUrl": "https://lh3.googleusercontent.com/a/default-user=s128",
            "userId": "102476666956781355563"
          }
        }
      },
      "cell_type": "code",
      "source": [
        "model.fit(X_train, y_train, validation_data=(X_val, y_val), epochs=15, batch_size=64, verbose=1)"
      ],
      "execution_count": 49,
      "outputs": [
        {
          "output_type": "stream",
          "text": [
            "Train on 140000 samples, validate on 60000 samples\n",
            "Epoch 1/15\n",
            " 86080/140000 [=================>............] - ETA: 24s - loss: 0.8104 - acc: 0.8145"
          ],
          "name": "stdout"
        },
        {
          "output_type": "stream",
          "text": [
            "140000/140000 [==============================] - 69s 491us/step - loss: 0.5761 - acc: 0.8625 - val_loss: 0.1054 - val_acc: 0.9661\n",
            "Epoch 2/15\n",
            " 35776/140000 [======>.......................] - ETA: 45s - loss: 0.1592 - acc: 0.9509"
          ],
          "name": "stdout"
        },
        {
          "output_type": "stream",
          "text": [
            "140000/140000 [==============================] - 67s 480us/step - loss: 0.1444 - acc: 0.9549 - val_loss: 0.0874 - val_acc: 0.9728\n",
            "Epoch 3/15\n",
            " 16704/140000 [==>...........................] - ETA: 53s - loss: 0.1180 - acc: 0.9637"
          ],
          "name": "stdout"
        },
        {
          "output_type": "stream",
          "text": [
            "140000/140000 [==============================] - 67s 480us/step - loss: 0.1117 - acc: 0.9649 - val_loss: 0.0776 - val_acc: 0.9769\n",
            "Epoch 4/15\n",
            "  9536/140000 [=>............................] - ETA: 56s - loss: 0.0857 - acc: 0.9713"
          ],
          "name": "stdout"
        },
        {
          "output_type": "stream",
          "text": [
            "140000/140000 [==============================] - 67s 478us/step - loss: 0.0946 - acc: 0.9704 - val_loss: 0.0716 - val_acc: 0.9782\n",
            "Epoch 5/15\n",
            "  6848/140000 [>.............................] - ETA: 57s - loss: 0.0822 - acc: 0.9730"
          ],
          "name": "stdout"
        },
        {
          "output_type": "stream",
          "text": [
            "140000/140000 [==============================] - 67s 481us/step - loss: 0.0850 - acc: 0.9735 - val_loss: 0.0659 - val_acc: 0.9803\n",
            "Epoch 6/15\n",
            "  5824/140000 [>.............................] - ETA: 57s - loss: 0.0732 - acc: 0.9777"
          ],
          "name": "stdout"
        },
        {
          "output_type": "stream",
          "text": [
            "140000/140000 [==============================] - 67s 480us/step - loss: 0.0774 - acc: 0.9759 - val_loss: 0.0626 - val_acc: 0.9821\n",
            "Epoch 7/15\n",
            "  5440/140000 [>.............................] - ETA: 58s - loss: 0.0680 - acc: 0.9781"
          ],
          "name": "stdout"
        },
        {
          "output_type": "stream",
          "text": [
            "140000/140000 [==============================] - 67s 479us/step - loss: 0.0724 - acc: 0.9778 - val_loss: 0.0635 - val_acc: 0.9805\n",
            "Epoch 8/15\n",
            "  5312/140000 [>.............................] - ETA: 58s - loss: 0.0594 - acc: 0.9814"
          ],
          "name": "stdout"
        },
        {
          "output_type": "stream",
          "text": [
            "140000/140000 [==============================] - 66s 475us/step - loss: 0.0665 - acc: 0.9798 - val_loss: 0.0615 - val_acc: 0.9830\n",
            "Epoch 9/15\n",
            "  5184/140000 [>.............................] - ETA: 57s - loss: 0.0544 - acc: 0.9828"
          ],
          "name": "stdout"
        },
        {
          "output_type": "stream",
          "text": [
            "140000/140000 [==============================] - 67s 475us/step - loss: 0.0649 - acc: 0.9805 - val_loss: 0.0609 - val_acc: 0.9832\n",
            "Epoch 10/15\n",
            "  5184/140000 [>.............................] - ETA: 58s - loss: 0.0590 - acc: 0.9809"
          ],
          "name": "stdout"
        },
        {
          "output_type": "stream",
          "text": [
            "140000/140000 [==============================] - 67s 476us/step - loss: 0.0614 - acc: 0.9812 - val_loss: 0.0574 - val_acc: 0.9841\n",
            "Epoch 11/15\n",
            "  5184/140000 [>.............................] - ETA: 57s - loss: 0.0480 - acc: 0.9838"
          ],
          "name": "stdout"
        },
        {
          "output_type": "stream",
          "text": [
            "140000/140000 [==============================] - 66s 473us/step - loss: 0.0587 - acc: 0.9824 - val_loss: 0.0597 - val_acc: 0.9832\n",
            "Epoch 12/15\n",
            "  5056/140000 [>.............................] - ETA: 57s - loss: 0.0502 - acc: 0.9838"
          ],
          "name": "stdout"
        },
        {
          "output_type": "stream",
          "text": [
            "140000/140000 [==============================] - 66s 474us/step - loss: 0.0573 - acc: 0.9828 - val_loss: 0.0571 - val_acc: 0.9845\n",
            "Epoch 13/15\n",
            "  5056/140000 [>.............................] - ETA: 57s - loss: 0.0616 - acc: 0.9834"
          ],
          "name": "stdout"
        },
        {
          "output_type": "stream",
          "text": [
            "140000/140000 [==============================] - 66s 473us/step - loss: 0.0549 - acc: 0.9834 - val_loss: 0.0569 - val_acc: 0.9852\n",
            "Epoch 14/15\n",
            "  5056/140000 [>.............................] - ETA: 57s - loss: 0.0448 - acc: 0.9883"
          ],
          "name": "stdout"
        },
        {
          "output_type": "stream",
          "text": [
            "140000/140000 [==============================] - 66s 474us/step - loss: 0.0529 - acc: 0.9841 - val_loss: 0.0571 - val_acc: 0.9853\n",
            "Epoch 15/15\n",
            "  5056/140000 [>.............................] - ETA: 57s - loss: 0.0515 - acc: 0.9846"
          ],
          "name": "stdout"
        },
        {
          "output_type": "stream",
          "text": [
            "140000/140000 [==============================] - 66s 474us/step - loss: 0.0546 - acc: 0.9842 - val_loss: 0.0592 - val_acc: 0.9858\n"
          ],
          "name": "stdout"
        },
        {
          "output_type": "execute_result",
          "data": {
            "text/plain": [
              "<keras.callbacks.History at 0x7f842be1a710>"
            ]
          },
          "metadata": {
            "tags": []
          },
          "execution_count": 49
        }
      ]
    },
    {
      "metadata": {
        "id": "OCynG023qWtH",
        "colab_type": "code",
        "colab": {
          "autoexec": {
            "startup": false,
            "wait_interval": 0
          }
        }
      },
      "cell_type": "code",
      "source": [
        "prediction = model.predict(X_test)"
      ],
      "execution_count": 0,
      "outputs": []
    },
    {
      "metadata": {
        "id": "lhLhxugVuU67",
        "colab_type": "code",
        "colab": {
          "autoexec": {
            "startup": false,
            "wait_interval": 0
          }
        }
      },
      "cell_type": "code",
      "source": [
        "fd = open('CNN_Third.txt', 'w')\n",
        "fd.write('Id,Category\\n')\n",
        "for i, label in enumerate(prediction):\n",
        "    fd.write(str(i) + ',' + encoder.inverse_transform(np.argmax(label)) + '\\n')\n",
        "fd.close()\n",
        "\n",
        "files.download('CNN_Third.txt')  "
      ],
      "execution_count": 0,
      "outputs": []
    },
    {
      "metadata": {
        "id": "XBWVIc2huYFy",
        "colab_type": "code",
        "colab": {
          "autoexec": {
            "startup": false,
            "wait_interval": 0
          }
        }
      },
      "cell_type": "code",
      "source": [
        ""
      ],
      "execution_count": 0,
      "outputs": []
    },
    {
      "metadata": {
        "id": "x1Ul8UcdvEVm",
        "colab_type": "code",
        "colab": {
          "autoexec": {
            "startup": false,
            "wait_interval": 0
          }
        }
      },
      "cell_type": "code",
      "source": [
        ""
      ],
      "execution_count": 0,
      "outputs": []
    },
    {
      "metadata": {
        "id": "4yCLkuWGvES3",
        "colab_type": "code",
        "colab": {
          "autoexec": {
            "startup": false,
            "wait_interval": 0
          }
        }
      },
      "cell_type": "code",
      "source": [
        "# Some magic numbers\n",
        "SIZE = 28\n",
        "SQUARE = SIZE * SIZE"
      ],
      "execution_count": 0,
      "outputs": []
    },
    {
      "metadata": {
        "id": "HhBFBj1fvFIN",
        "colab_type": "code",
        "colab": {
          "autoexec": {
            "startup": false,
            "wait_interval": 0
          }
        }
      },
      "cell_type": "code",
      "source": [
        "# Collect raw data\n",
        "X, y, X_test = create_dataset()"
      ],
      "execution_count": 0,
      "outputs": []
    },
    {
      "metadata": {
        "id": "dALQjsuPvGw1",
        "colab_type": "code",
        "colab": {
          "autoexec": {
            "startup": false,
            "wait_interval": 0
          }
        }
      },
      "cell_type": "code",
      "source": [
        "# Make images have same size\n",
        "X = list(map(lambda image: imresize(image, (SIZE, SIZE)), X))\n",
        "X_test = list(map(lambda image: imresize(image, (SIZE, SIZE)), X_test))"
      ],
      "execution_count": 0,
      "outputs": []
    },
    {
      "metadata": {
        "id": "8s5nO79vvIdU",
        "colab_type": "code",
        "colab": {
          "autoexec": {
            "startup": false,
            "wait_interval": 0
          }
        }
      },
      "cell_type": "code",
      "source": [
        "# One-hot encode labels\n",
        "y, encoder = encode(y)\n",
        "\n",
        "# Remember the number of classes\n",
        "NUM_CLASSES = len(y[0])"
      ],
      "execution_count": 0,
      "outputs": []
    },
    {
      "metadata": {
        "id": "MohVZGFUvOji",
        "colab_type": "code",
        "colab": {
          "autoexec": {
            "startup": false,
            "wait_interval": 0
          }
        }
      },
      "cell_type": "code",
      "source": [
        "# Splitting datatest for train and validation\n",
        "X_train, X_val, y_train, y_val = train_test_split(X,\n",
        "                                                  y,\n",
        "                                                  test_size=0.3,\n",
        "                                                  random_state=42)"
      ],
      "execution_count": 0,
      "outputs": []
    },
    {
      "metadata": {
        "id": "NRwiqvv1vQEr",
        "colab_type": "code",
        "colab": {
          "autoexec": {
            "startup": false,
            "wait_interval": 0
          }
        }
      },
      "cell_type": "code",
      "source": [
        "# Keras likes numpy\n",
        "X_train = np.array(X_train).reshape(-1, SIZE, SIZE, 1)\n",
        "X_val = np.array(X_val).reshape(-1, SIZE, SIZE, 1)\n",
        "y_train = np.array(y_train)\n",
        "y_val = np.array(y_val)\n",
        "X_test = np.array(X_test).reshape(-1, SIZE, SIZE, 1)"
      ],
      "execution_count": 0,
      "outputs": []
    },
    {
      "metadata": {
        "id": "t9QdsUi4vRi5",
        "colab_type": "code",
        "colab": {
          "autoexec": {
            "startup": false,
            "wait_interval": 0
          }
        }
      },
      "cell_type": "code",
      "source": [
        "def build_model():\n",
        "    model = Sequential()\n",
        "    model.add(Conv2D(64, kernel_size=(3, 3), input_shape=(SIZE, SIZE, 1), padding='same', activation='relu'))\n",
        "    model.add(MaxPooling2D(pool_size=(2, 2), strides=2))\n",
        "    model.add(Conv2D(128, kernel_size=(3, 3), padding='same', activation='tanh'))\n",
        "    model.add(MaxPooling2D(pool_size=(2, 2), strides=2))\n",
        "    model.add(Dropout(rate=0.35))\n",
        "    model.add(Conv2D(256, kernel_size=(3, 3), padding='valid', activation='relu'))\n",
        "    model.add(MaxPooling2D(pool_size=(2, 2), strides=2))\n",
        "    model.add(Flatten())\n",
        "    model.add(Dense(600, activation='relu'))\n",
        "    model.add(Dropout(rate=0.35))\n",
        "    model.add(Dense(400, activation='relu'))\n",
        "    model.add(Dropout(rate=0.35))\n",
        "    model.add(Dense(NUM_CLASSES, activation='softmax'))\n",
        "    return model"
      ],
      "execution_count": 0,
      "outputs": []
    },
    {
      "metadata": {
        "id": "R0seONNAvbqL",
        "colab_type": "code",
        "colab": {
          "autoexec": {
            "startup": false,
            "wait_interval": 0
          },
          "base_uri": "https://localhost:8080/",
          "height": 578
        },
        "outputId": "4463cf42-53aa-4904-bae2-fe82dcacc63b",
        "executionInfo": {
          "status": "ok",
          "timestamp": 1527108195306,
          "user_tz": -180,
          "elapsed": 574,
          "user": {
            "displayName": "Evgeny Rubanenko",
            "photoUrl": "https://lh3.googleusercontent.com/a/default-user=s128",
            "userId": "102476666956781355563"
          }
        }
      },
      "cell_type": "code",
      "source": [
        "model.summary()"
      ],
      "execution_count": 59,
      "outputs": [
        {
          "output_type": "stream",
          "text": [
            "_________________________________________________________________\n",
            "Layer (type)                 Output Shape              Param #   \n",
            "=================================================================\n",
            "conv2d_1 (Conv2D)            (None, 28, 28, 64)        640       \n",
            "_________________________________________________________________\n",
            "max_pooling2d_1 (MaxPooling2 (None, 14, 14, 64)        0         \n",
            "_________________________________________________________________\n",
            "conv2d_2 (Conv2D)            (None, 14, 14, 128)       73856     \n",
            "_________________________________________________________________\n",
            "max_pooling2d_2 (MaxPooling2 (None, 7, 7, 128)         0         \n",
            "_________________________________________________________________\n",
            "dropout_1 (Dropout)          (None, 7, 7, 128)         0         \n",
            "_________________________________________________________________\n",
            "conv2d_3 (Conv2D)            (None, 7, 7, 256)         524544    \n",
            "_________________________________________________________________\n",
            "max_pooling2d_3 (MaxPooling2 (None, 3, 3, 256)         0         \n",
            "_________________________________________________________________\n",
            "flatten_1 (Flatten)          (None, 2304)              0         \n",
            "_________________________________________________________________\n",
            "dense_1 (Dense)              (None, 600)               1383000   \n",
            "_________________________________________________________________\n",
            "dropout_2 (Dropout)          (None, 600)               0         \n",
            "_________________________________________________________________\n",
            "dense_2 (Dense)              (None, 400)               240400    \n",
            "_________________________________________________________________\n",
            "dropout_3 (Dropout)          (None, 400)               0         \n",
            "_________________________________________________________________\n",
            "dense_3 (Dense)              (None, 316)               126716    \n",
            "=================================================================\n",
            "Total params: 2,349,156\n",
            "Trainable params: 2,349,156\n",
            "Non-trainable params: 0\n",
            "_________________________________________________________________\n"
          ],
          "name": "stdout"
        }
      ]
    },
    {
      "metadata": {
        "id": "tzMcH-SuvdFc",
        "colab_type": "code",
        "colab": {
          "autoexec": {
            "startup": false,
            "wait_interval": 0
          }
        }
      },
      "cell_type": "code",
      "source": [
        "model.compile(loss='categorical_crossentropy', optimizer='adam', metrics=['accuracy'])"
      ],
      "execution_count": 0,
      "outputs": []
    },
    {
      "metadata": {
        "id": "l-6rmFY6vgsp",
        "colab_type": "code",
        "colab": {
          "autoexec": {
            "startup": false,
            "wait_interval": 0
          },
          "base_uri": "https://localhost:8080/",
          "height": 411
        },
        "outputId": "5b8a2c0a-15cb-4d9e-a6fe-ec8552e0305c",
        "executionInfo": {
          "status": "ok",
          "timestamp": 1527108937257,
          "user_tz": -180,
          "elapsed": 675615,
          "user": {
            "displayName": "Evgeny Rubanenko",
            "photoUrl": "https://lh3.googleusercontent.com/a/default-user=s128",
            "userId": "102476666956781355563"
          }
        }
      },
      "cell_type": "code",
      "source": [
        "model.fit(X_train, y_train, validation_data=(X_val, y_val), epochs=10, batch_size=64, verbose=1)"
      ],
      "execution_count": 62,
      "outputs": [
        {
          "output_type": "stream",
          "text": [
            "Train on 140000 samples, validate on 60000 samples\n",
            "Epoch 1/10\n",
            " 86336/140000 [=================>............] - ETA: 23s - loss: 0.0532 - acc: 0.9850"
          ],
          "name": "stdout"
        },
        {
          "output_type": "stream",
          "text": [
            "140000/140000 [==============================] - 68s 484us/step - loss: 0.0541 - acc: 0.9846 - val_loss: 0.0671 - val_acc: 0.9828\n",
            "Epoch 2/10\n",
            " 35904/140000 [======>.......................] - ETA: 45s - loss: 0.0499 - acc: 0.9852"
          ],
          "name": "stdout"
        },
        {
          "output_type": "stream",
          "text": [
            "140000/140000 [==============================] - 68s 483us/step - loss: 0.0529 - acc: 0.9846 - val_loss: 0.0614 - val_acc: 0.9845\n",
            "Epoch 3/10\n",
            " 16832/140000 [==>...........................] - ETA: 53s - loss: 0.0437 - acc: 0.9884"
          ],
          "name": "stdout"
        },
        {
          "output_type": "stream",
          "text": [
            "140000/140000 [==============================] - 68s 484us/step - loss: 0.0535 - acc: 0.9849 - val_loss: 0.0595 - val_acc: 0.9847\n",
            "Epoch 4/10\n",
            "  9536/140000 [=>............................] - ETA: 56s - loss: 0.0632 - acc: 0.9842"
          ],
          "name": "stdout"
        },
        {
          "output_type": "stream",
          "text": [
            "140000/140000 [==============================] - 68s 482us/step - loss: 0.0516 - acc: 0.9855 - val_loss: 0.0568 - val_acc: 0.9855\n",
            "Epoch 5/10\n",
            "  6848/140000 [>.............................] - ETA: 58s - loss: 0.0542 - acc: 0.9861"
          ],
          "name": "stdout"
        },
        {
          "output_type": "stream",
          "text": [
            "140000/140000 [==============================] - 67s 481us/step - loss: 0.0521 - acc: 0.9854 - val_loss: 0.0582 - val_acc: 0.9845\n",
            "Epoch 6/10\n",
            "  5824/140000 [>.............................] - ETA: 58s - loss: 0.0445 - acc: 0.9870"
          ],
          "name": "stdout"
        },
        {
          "output_type": "stream",
          "text": [
            "140000/140000 [==============================] - 67s 482us/step - loss: 0.0537 - acc: 0.9844 - val_loss: 0.0622 - val_acc: 0.9857\n",
            "Epoch 7/10\n",
            "  5440/140000 [>.............................] - ETA: 58s - loss: 0.0457 - acc: 0.9849"
          ],
          "name": "stdout"
        },
        {
          "output_type": "stream",
          "text": [
            "140000/140000 [==============================] - 68s 483us/step - loss: 0.0498 - acc: 0.9859 - val_loss: 0.0563 - val_acc: 0.9868\n",
            "Epoch 8/10\n",
            "  5312/140000 [>.............................] - ETA: 58s - loss: 0.0472 - acc: 0.9876"
          ],
          "name": "stdout"
        },
        {
          "output_type": "stream",
          "text": [
            "140000/140000 [==============================] - 67s 482us/step - loss: 0.0516 - acc: 0.9856 - val_loss: 0.0590 - val_acc: 0.9852\n",
            "Epoch 9/10\n",
            "  5184/140000 [>.............................] - ETA: 58s - loss: 0.0405 - acc: 0.9878"
          ],
          "name": "stdout"
        },
        {
          "output_type": "stream",
          "text": [
            "140000/140000 [==============================] - 67s 481us/step - loss: 0.0514 - acc: 0.9860 - val_loss: 0.0616 - val_acc: 0.9849\n",
            "Epoch 10/10\n",
            "  5184/140000 [>.............................] - ETA: 58s - loss: 0.0615 - acc: 0.9846"
          ],
          "name": "stdout"
        },
        {
          "output_type": "stream",
          "text": [
            "140000/140000 [==============================] - 67s 479us/step - loss: 0.0528 - acc: 0.9854 - val_loss: 0.0575 - val_acc: 0.9857\n"
          ],
          "name": "stdout"
        },
        {
          "output_type": "execute_result",
          "data": {
            "text/plain": [
              "<keras.callbacks.History at 0x7f81d0df8128>"
            ]
          },
          "metadata": {
            "tags": []
          },
          "execution_count": 62
        }
      ]
    },
    {
      "metadata": {
        "id": "hKd_zrn-x_Do",
        "colab_type": "code",
        "colab": {
          "autoexec": {
            "startup": false,
            "wait_interval": 0
          }
        }
      },
      "cell_type": "code",
      "source": [
        "prediction = model.predict(X_test)"
      ],
      "execution_count": 0,
      "outputs": []
    },
    {
      "metadata": {
        "id": "zWd9ja2Dvi0W",
        "colab_type": "code",
        "colab": {
          "autoexec": {
            "startup": false,
            "wait_interval": 0
          }
        }
      },
      "cell_type": "code",
      "source": [
        "fd = open('CNN_Forth.txt', 'w')\n",
        "fd.write('Id,Category\\n')\n",
        "for i, label in enumerate(prediction):\n",
        "    fd.write(str(i) + ',' + encoder.inverse_transform(np.argmax(label)) + '\\n')\n",
        "fd.close()\n",
        "\n",
        "files.download('CNN_Forth.txt')  "
      ],
      "execution_count": 0,
      "outputs": []
    },
    {
      "metadata": {
        "id": "cUGZ_tcWyWES",
        "colab_type": "code",
        "colab": {
          "autoexec": {
            "startup": false,
            "wait_interval": 0
          }
        }
      },
      "cell_type": "code",
      "source": [
        ""
      ],
      "execution_count": 0,
      "outputs": []
    }
  ]
}